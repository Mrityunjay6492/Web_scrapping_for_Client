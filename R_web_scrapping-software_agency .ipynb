{
 "cells": [
  {
   "cell_type": "code",
   "execution_count": 3,
   "metadata": {
    "ExecuteTime": {
     "end_time": "2022-04-25T07:03:40.823182Z",
     "start_time": "2022-04-25T07:03:40.812212Z"
    }
   },
   "outputs": [],
   "source": [
    "from selenium import webdriver\n",
    "from bs4 import BeautifulSoup as B\n",
    "import re"
   ]
  },
  {
   "cell_type": "code",
   "execution_count": 2,
   "metadata": {
    "ExecuteTime": {
     "end_time": "2022-04-25T07:03:24.780255Z",
     "start_time": "2022-04-25T07:03:16.058765Z"
    }
   },
   "outputs": [],
   "source": [
    "driver=webdriver.Edge(r'C:\\\\Users\\\\MRITYUNJAY\\\\jyputernotebook\\\\msedgedriver.exe')"
   ]
  },
  {
   "cell_type": "code",
   "execution_count": 41,
   "metadata": {
    "ExecuteTime": {
     "end_time": "2022-04-25T07:57:34.843055Z",
     "start_time": "2022-04-25T07:57:33.928502Z"
    }
   },
   "outputs": [],
   "source": [
    "# till 40\n",
    "# https://mobil.dasoertliche.de/Themen?was=mobile+Agentur+&wo=\n",
    "url='https://mobil.dasoertliche.de/Themen?was=Web+Mobile&wo='\n",
    "driver.get(url)\n",
    "soup=B(driver.page_source,'html.parser')"
   ]
  },
  {
   "cell_type": "code",
   "execution_count": 9,
   "metadata": {
    "ExecuteTime": {
     "end_time": "2022-04-25T07:06:35.725077Z",
     "start_time": "2022-04-25T07:06:35.670225Z"
    }
   },
   "outputs": [],
   "source": [
    "# get link for all the companies on at paticular page \n",
    "tag=soup.find_all('a')\n",
    "o=[]\n",
    "for i in range(len(tag)):  \n",
    "    pattern=re.compile('href=\"[/?\\w_=-]+\"')\n",
    "    matches= pattern.finditer(str(tag[i]))\n",
    "    if matches:\n",
    "        for match in matches:\n",
    "            if len(match[0])>30:\n",
    "                o.append(match[0][6:-1])\n"
   ]
  },
  {
   "cell_type": "code",
   "execution_count": 14,
   "metadata": {
    "ExecuteTime": {
     "end_time": "2022-04-25T07:10:08.020998Z",
     "start_time": "2022-04-25T07:10:04.778670Z"
    }
   },
   "outputs": [],
   "source": [
    "url='https://mobil.dasoertliche.de'+o[1]\n",
    "driver.get(url)\n",
    "soup=B(driver.page_source,'html.parser')"
   ]
  },
  {
   "cell_type": "code",
   "execution_count": 15,
   "metadata": {
    "ExecuteTime": {
     "end_time": "2022-04-25T07:10:40.740442Z",
     "start_time": "2022-04-25T07:10:40.698554Z"
    }
   },
   "outputs": [
    {
     "data": {
      "text/plain": [
       "'kontakt@3digital.de'"
      ]
     },
     "execution_count": 15,
     "metadata": {},
     "output_type": "execute_result"
    }
   ],
   "source": [
    "# company name\n",
    "soup.h1.text\n",
    "# mail record\n",
    "soup.find_all('div',{'class':\"tao-grid-item tao-grid-auto tao-tr tao-n\"})[0].text\n",
    "# k[0].text"
   ]
  },
  {
   "cell_type": "code",
   "execution_count": 44,
   "metadata": {
    "ExecuteTime": {
     "end_time": "2022-04-25T08:00:42.104283Z",
     "start_time": "2022-04-25T08:00:30.921373Z"
    }
   },
   "outputs": [
    {
     "name": "stdout",
     "output_type": "stream",
     "text": [
      "\n",
      "\n",
      "\n",
      "\n",
      "\n",
      "\n"
     ]
    }
   ],
   "source": [
    "recor=[]\n",
    "url1='https://mobil.dasoertliche.de'\n",
    "for num in range(1,2):\n",
    "    url='https://mobil.dasoertliche.de/Themen?was=Web+Mobile&wo='#'+str(num)+str('')\n",
    "    driver.get(url)\n",
    "    soup=B(driver.page_source,'html.parser')\n",
    "    # get link for all the companies on at paticular page \n",
    "    tag=soup.find_all('a')\n",
    "    o=[]\n",
    "    for i in range(len(tag)):  \n",
    "        pattern=re.compile('href=\"[/?\\w_=-]+\"')\n",
    "        matches= pattern.finditer(str(tag[i]))\n",
    "        if matches:\n",
    "            for match in matches:\n",
    "                if len(match[0])>30:\n",
    "                    o.append(match[0][6:-1])\n",
    "#     going to each company page \n",
    "    for i in range(len(o)):\n",
    "        url2=url1+o[i]\n",
    "        driver.get(url2)\n",
    "        soup=B(driver.page_source,'html.parser')\n",
    "        try:\n",
    "            recor.append([soup.h1.text,soup.find_all('div',{'class':\"tao-grid-item tao-grid-auto tao-tr tao-n\"})[0].text])\n",
    "        except:\n",
    "            print('')"
   ]
  },
  {
   "cell_type": "code",
   "execution_count": 45,
   "metadata": {
    "ExecuteTime": {
     "end_time": "2022-04-25T08:00:55.667323Z",
     "start_time": "2022-04-25T08:00:55.591487Z"
    }
   },
   "outputs": [],
   "source": [
    "import pandas as pd\n",
    "data=pd.DataFrame(recor,columns=['Name_of_company','emails'])\n",
    "data.to_excel('German_Company_web_mobile.xlsx',index=False)"
   ]
  },
  {
   "cell_type": "code",
   "execution_count": 73,
   "metadata": {
    "ExecuteTime": {
     "end_time": "2022-04-25T08:24:28.947753Z",
     "start_time": "2022-04-25T08:24:28.891099Z"
    }
   },
   "outputs": [
    {
     "data": {
      "text/html": [
       "<div>\n",
       "<style scoped>\n",
       "    .dataframe tbody tr th:only-of-type {\n",
       "        vertical-align: middle;\n",
       "    }\n",
       "\n",
       "    .dataframe tbody tr th {\n",
       "        vertical-align: top;\n",
       "    }\n",
       "\n",
       "    .dataframe thead th {\n",
       "        text-align: right;\n",
       "    }\n",
       "</style>\n",
       "<table border=\"1\" class=\"dataframe\">\n",
       "  <thead>\n",
       "    <tr style=\"text-align: right;\">\n",
       "      <th></th>\n",
       "      <th>Name_of_company</th>\n",
       "      <th>emails</th>\n",
       "    </tr>\n",
       "  </thead>\n",
       "  <tbody>\n",
       "    <tr>\n",
       "      <th>0</th>\n",
       "      <td>ARinternet WebAgentur</td>\n",
       "      <td>info@ar-webmarketing.de</td>\n",
       "    </tr>\n",
       "    <tr>\n",
       "      <th>1</th>\n",
       "      <td>ARinternet WebAgentur</td>\n",
       "      <td>info@ar-webmarketing.de</td>\n",
       "    </tr>\n",
       "    <tr>\n",
       "      <th>2</th>\n",
       "      <td>Bytebizz Internetagentur</td>\n",
       "      <td>kontakt@bytebizz.com</td>\n",
       "    </tr>\n",
       "    <tr>\n",
       "      <th>3</th>\n",
       "      <td>Codingharz Webdesign Agentur</td>\n",
       "      <td>info@codingharz.de</td>\n",
       "    </tr>\n",
       "    <tr>\n",
       "      <th>4</th>\n",
       "      <td>connections werbeagentur</td>\n",
       "      <td>co@connections-mainz.de</td>\n",
       "    </tr>\n",
       "    <tr>\n",
       "      <th>...</th>\n",
       "      <td>...</td>\n",
       "      <td>...</td>\n",
       "    </tr>\n",
       "    <tr>\n",
       "      <th>659</th>\n",
       "      <td>Wintgens Marc Marketing Agentur</td>\n",
       "      <td>info@marketing-wintgens.de</td>\n",
       "    </tr>\n",
       "    <tr>\n",
       "      <th>660</th>\n",
       "      <td>Wittkiel-Gruppe GmbH Internetservice</td>\n",
       "      <td>info@wittkiel-gruppe.de</td>\n",
       "    </tr>\n",
       "    <tr>\n",
       "      <th>661</th>\n",
       "      <td>WM Onlinemarketing SEO Agentur &amp; mehr</td>\n",
       "      <td>info@wm-onlinemarketing.de</td>\n",
       "    </tr>\n",
       "    <tr>\n",
       "      <th>662</th>\n",
       "      <td>wörterfall - die Kommunikationswerkstatt Agent...</td>\n",
       "      <td>info@woerterfall.de</td>\n",
       "    </tr>\n",
       "    <tr>\n",
       "      <th>663</th>\n",
       "      <td>zeitfreibeuter design</td>\n",
       "      <td>hs@zeitfreibeuter.de</td>\n",
       "    </tr>\n",
       "  </tbody>\n",
       "</table>\n",
       "<p>664 rows × 2 columns</p>\n",
       "</div>"
      ],
      "text/plain": [
       "                                       Name_of_company  \\\n",
       "0                                ARinternet WebAgentur   \n",
       "1                                ARinternet WebAgentur   \n",
       "2                             Bytebizz Internetagentur   \n",
       "3                         Codingharz Webdesign Agentur   \n",
       "4                             connections werbeagentur   \n",
       "..                                                 ...   \n",
       "659                    Wintgens Marc Marketing Agentur   \n",
       "660               Wittkiel-Gruppe GmbH Internetservice   \n",
       "661              WM Onlinemarketing SEO Agentur & mehr   \n",
       "662  wörterfall - die Kommunikationswerkstatt Agent...   \n",
       "663                              zeitfreibeuter design   \n",
       "\n",
       "                         emails  \n",
       "0       info@ar-webmarketing.de  \n",
       "1       info@ar-webmarketing.de  \n",
       "2          kontakt@bytebizz.com  \n",
       "3            info@codingharz.de  \n",
       "4       co@connections-mainz.de  \n",
       "..                          ...  \n",
       "659  info@marketing-wintgens.de  \n",
       "660     info@wittkiel-gruppe.de  \n",
       "661  info@wm-onlinemarketing.de  \n",
       "662         info@woerterfall.de  \n",
       "663        hs@zeitfreibeuter.de  \n",
       "\n",
       "[664 rows x 2 columns]"
      ]
     },
     "execution_count": 73,
     "metadata": {},
     "output_type": "execute_result"
    }
   ],
   "source": [
    "#'German_Company_software.xlsx'\n",
    "#'German_Company_web_mobile.xlsx'\n",
    "#'German_Company_mobile_agency.xlsx'\n",
    "#'German_Company_web_agency.xlsx'\n",
    "#'German_Company_Digital_agency.xlsx'\n",
    "#'German_Company_software_agency.xlsx'\n",
    "data=pd.read_excel('German_Company_web_agency.xlsx')\n",
    "data"
   ]
  },
  {
   "cell_type": "code",
   "execution_count": 70,
   "metadata": {
    "ExecuteTime": {
     "end_time": "2022-04-25T08:21:52.240964Z",
     "start_time": "2022-04-25T08:21:52.226004Z"
    }
   },
   "outputs": [],
   "source": [
    "# data=data.drop(columns=['Unnamed: 0'])"
   ]
  },
  {
   "cell_type": "code",
   "execution_count": 74,
   "metadata": {
    "ExecuteTime": {
     "end_time": "2022-04-25T08:24:36.838249Z",
     "start_time": "2022-04-25T08:24:36.822292Z"
    }
   },
   "outputs": [
    {
     "data": {
      "text/html": [
       "<div>\n",
       "<style scoped>\n",
       "    .dataframe tbody tr th:only-of-type {\n",
       "        vertical-align: middle;\n",
       "    }\n",
       "\n",
       "    .dataframe tbody tr th {\n",
       "        vertical-align: top;\n",
       "    }\n",
       "\n",
       "    .dataframe thead th {\n",
       "        text-align: right;\n",
       "    }\n",
       "</style>\n",
       "<table border=\"1\" class=\"dataframe\">\n",
       "  <thead>\n",
       "    <tr style=\"text-align: right;\">\n",
       "      <th></th>\n",
       "      <th>Name_of_company</th>\n",
       "      <th>emails</th>\n",
       "    </tr>\n",
       "  </thead>\n",
       "  <tbody>\n",
       "    <tr>\n",
       "      <th>0</th>\n",
       "      <td>ARinternet WebAgentur</td>\n",
       "      <td>info@ar-webmarketing.de</td>\n",
       "    </tr>\n",
       "    <tr>\n",
       "      <th>1</th>\n",
       "      <td>Bytebizz Internetagentur</td>\n",
       "      <td>kontakt@bytebizz.com</td>\n",
       "    </tr>\n",
       "    <tr>\n",
       "      <th>2</th>\n",
       "      <td>Codingharz Webdesign Agentur</td>\n",
       "      <td>info@codingharz.de</td>\n",
       "    </tr>\n",
       "    <tr>\n",
       "      <th>3</th>\n",
       "      <td>connections werbeagentur</td>\n",
       "      <td>co@connections-mainz.de</td>\n",
       "    </tr>\n",
       "    <tr>\n",
       "      <th>4</th>\n",
       "      <td>digitalfunken Webdesign made in Hamburg</td>\n",
       "      <td>hallo@digitalfunken.de</td>\n",
       "    </tr>\n",
       "    <tr>\n",
       "      <th>...</th>\n",
       "      <td>...</td>\n",
       "      <td>...</td>\n",
       "    </tr>\n",
       "    <tr>\n",
       "      <th>532</th>\n",
       "      <td>Wintgens Marc Marketing Agentur</td>\n",
       "      <td>info@marketing-wintgens.de</td>\n",
       "    </tr>\n",
       "    <tr>\n",
       "      <th>533</th>\n",
       "      <td>Wittkiel-Gruppe GmbH Internetservice</td>\n",
       "      <td>info@wittkiel-gruppe.de</td>\n",
       "    </tr>\n",
       "    <tr>\n",
       "      <th>534</th>\n",
       "      <td>WM Onlinemarketing SEO Agentur &amp; mehr</td>\n",
       "      <td>info@wm-onlinemarketing.de</td>\n",
       "    </tr>\n",
       "    <tr>\n",
       "      <th>535</th>\n",
       "      <td>wörterfall - die Kommunikationswerkstatt Agent...</td>\n",
       "      <td>info@woerterfall.de</td>\n",
       "    </tr>\n",
       "    <tr>\n",
       "      <th>536</th>\n",
       "      <td>zeitfreibeuter design</td>\n",
       "      <td>hs@zeitfreibeuter.de</td>\n",
       "    </tr>\n",
       "  </tbody>\n",
       "</table>\n",
       "<p>537 rows × 2 columns</p>\n",
       "</div>"
      ],
      "text/plain": [
       "                                       Name_of_company  \\\n",
       "0                                ARinternet WebAgentur   \n",
       "1                             Bytebizz Internetagentur   \n",
       "2                         Codingharz Webdesign Agentur   \n",
       "3                             connections werbeagentur   \n",
       "4              digitalfunken Webdesign made in Hamburg   \n",
       "..                                                 ...   \n",
       "532                    Wintgens Marc Marketing Agentur   \n",
       "533               Wittkiel-Gruppe GmbH Internetservice   \n",
       "534              WM Onlinemarketing SEO Agentur & mehr   \n",
       "535  wörterfall - die Kommunikationswerkstatt Agent...   \n",
       "536                              zeitfreibeuter design   \n",
       "\n",
       "                         emails  \n",
       "0       info@ar-webmarketing.de  \n",
       "1          kontakt@bytebizz.com  \n",
       "2            info@codingharz.de  \n",
       "3       co@connections-mainz.de  \n",
       "4        hallo@digitalfunken.de  \n",
       "..                          ...  \n",
       "532  info@marketing-wintgens.de  \n",
       "533     info@wittkiel-gruppe.de  \n",
       "534  info@wm-onlinemarketing.de  \n",
       "535         info@woerterfall.de  \n",
       "536        hs@zeitfreibeuter.de  \n",
       "\n",
       "[537 rows x 2 columns]"
      ]
     },
     "execution_count": 74,
     "metadata": {},
     "output_type": "execute_result"
    }
   ],
   "source": [
    "data=data.drop_duplicates(keep='first').reset_index(drop=True)\n",
    "data"
   ]
  },
  {
   "cell_type": "code",
   "execution_count": 76,
   "metadata": {
    "ExecuteTime": {
     "end_time": "2022-04-25T08:25:35.193988Z",
     "start_time": "2022-04-25T08:25:35.113359Z"
    }
   },
   "outputs": [],
   "source": [
    "data.to_excel('German_Company_web_agency.xlsx',index=False)"
   ]
  }
 ],
 "metadata": {
  "kernelspec": {
   "display_name": "Python 3",
   "language": "python",
   "name": "python3"
  },
  "language_info": {
   "codemirror_mode": {
    "name": "ipython",
    "version": 3
   },
   "file_extension": ".py",
   "mimetype": "text/x-python",
   "name": "python",
   "nbconvert_exporter": "python",
   "pygments_lexer": "ipython3",
   "version": "3.8.3"
  },
  "latex_envs": {
   "LaTeX_envs_menu_present": true,
   "autoclose": false,
   "autocomplete": true,
   "bibliofile": "biblio.bib",
   "cite_by": "apalike",
   "current_citInitial": 1,
   "eqLabelWithNumbers": true,
   "eqNumInitial": 1,
   "hotkeys": {
    "equation": "Ctrl-E",
    "itemize": "Ctrl-I"
   },
   "labels_anchors": false,
   "latex_user_defs": false,
   "report_style_numbering": false,
   "user_envs_cfg": false
  },
  "varInspector": {
   "cols": {
    "lenName": 16,
    "lenType": 16,
    "lenVar": 40
   },
   "kernels_config": {
    "python": {
     "delete_cmd_postfix": "",
     "delete_cmd_prefix": "del ",
     "library": "var_list.py",
     "varRefreshCmd": "print(var_dic_list())"
    },
    "r": {
     "delete_cmd_postfix": ") ",
     "delete_cmd_prefix": "rm(",
     "library": "var_list.r",
     "varRefreshCmd": "cat(var_dic_list()) "
    }
   },
   "types_to_exclude": [
    "module",
    "function",
    "builtin_function_or_method",
    "instance",
    "_Feature"
   ],
   "window_display": false
  }
 },
 "nbformat": 4,
 "nbformat_minor": 4
}
